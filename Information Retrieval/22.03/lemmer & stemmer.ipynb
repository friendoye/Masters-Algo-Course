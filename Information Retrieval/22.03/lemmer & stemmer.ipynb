{
 "cells": [
  {
   "cell_type": "code",
   "execution_count": 2,
   "metadata": {
    "collapsed": true
   },
   "outputs": [],
   "source": [
    "%matplotlib inline\n",
    "\n",
    "import numpy as np\n",
    "import matplotlib.pyplot as plt\n",
    "import pandas as pd"
   ]
  },
  {
   "cell_type": "code",
   "execution_count": 3,
   "metadata": {},
   "outputs": [
    {
     "name": "stdout",
     "output_type": "stream",
     "text": [
      "showing info https://raw.githubusercontent.com/nltk/nltk_data/gh-pages/index.xml\n"
     ]
    },
    {
     "data": {
      "text/plain": [
       "True"
      ]
     },
     "execution_count": 3,
     "metadata": {},
     "output_type": "execute_result"
    }
   ],
   "source": [
    "import nltk\n",
    "\n",
    "# nltk.download()"
   ]
  },
  {
   "cell_type": "code",
   "execution_count": 17,
   "metadata": {},
   "outputs": [],
   "source": [
    "import nltk\n",
    "from nltk.tokenize import word_tokenize\n",
    "from nltk.stem import WordNetLemmatizer\n",
    "\n",
    "from nltk.stem.porter import PorterStemmer\n",
    "from nltk.stem.snowball import SnowballStemmer\n",
    "\n",
    "from nltk.corpus import stopwords\n",
    "\n",
    "lemmatizer = WordNetLemmatizer()\n",
    "\n",
    "stemmer1 = PorterStemmer()\n",
    "stemmer2 = SnowballStemmer('english', False)\n",
    "\n",
    "stop_words = set(stopwords.words('english'))"
   ]
  },
  {
   "cell_type": "code",
   "execution_count": 21,
   "metadata": {},
   "outputs": [
    {
     "data": {
      "text/plain": [
       "['Let',\n",
       " \"'s\",\n",
       " 'go',\n",
       " ',',\n",
       " 'I',\n",
       " 'ca',\n",
       " \"n't\",\n",
       " 'wait',\n",
       " 'for',\n",
       " '5',\n",
       " \"o'clock\",\n",
       " 'tea',\n",
       " 'anymore',\n",
       " '.',\n",
       " 'And',\n",
       " 'quick',\n",
       " 'foxes',\n",
       " 'jump',\n",
       " 'over',\n",
       " 'lazy',\n",
       " 'dogs']"
      ]
     },
     "execution_count": 21,
     "metadata": {},
     "output_type": "execute_result"
    }
   ],
   "source": [
    "from nltk import wordpunct_tokenize\n",
    "lst = word_tokenize(\"Let's go, I can't wait for 5  o'clock tea anymore. And quick foxes jump over lazy dogs\")\n",
    "lst"
   ]
  },
  {
   "cell_type": "code",
   "execution_count": 32,
   "metadata": {},
   "outputs": [
    {
     "data": {
      "text/plain": [
       "['Let',\n",
       " \"'s\",\n",
       " 'go',\n",
       " ',',\n",
       " 'I',\n",
       " 'ca',\n",
       " \"n't\",\n",
       " 'wait',\n",
       " 'for',\n",
       " '5',\n",
       " \"o'clock\",\n",
       " 'tea',\n",
       " 'anymore',\n",
       " '.',\n",
       " 'And',\n",
       " 'quick',\n",
       " 'fox',\n",
       " 'jump',\n",
       " 'over',\n",
       " 'lazy',\n",
       " 'dog']"
      ]
     },
     "execution_count": 32,
     "metadata": {},
     "output_type": "execute_result"
    }
   ],
   "source": [
    "from nltk.tag import pos_tag\n",
    "\n",
    "def lemmatize_all(tokens, lemmatizer):\n",
    "    wnl = lemmatizer\n",
    "    for word, tag in pos_tag(tokens):\n",
    "        if tag.startswith(\"NN\"):\n",
    "            yield wnl.lemmatize(word, pos='n')\n",
    "        elif tag.startswith('VB'):\n",
    "            yield wnl.lemmatize(word, pos='v')\n",
    "        elif tag.startswith('JJ'):\n",
    "            yield wnl.lemmatize(word, pos='a')\n",
    "        else:\n",
    "            yield word\n",
    "\n",
    "list(lemmatize_all(lst, lemmatizer))\n",
    "\n",
    "[lemmatizer.lemmatize(_) for _ in lst]"
   ]
  },
  {
   "cell_type": "code",
   "execution_count": 7,
   "metadata": {},
   "outputs": [
    {
     "name": "stdout",
     "output_type": "stream",
     "text": [
      "*** Introductory Examples for the NLTK Book ***\n",
      "Loading text1, ..., text9 and sent1, ..., sent9\n",
      "Type the name of the text or sentence to view it.\n",
      "Type: 'texts()' or 'sents()' to list the materials.\n",
      "text1: Moby Dick by Herman Melville 1851\n",
      "text2: Sense and Sensibility by Jane Austen 1811\n",
      "text3: The Book of Genesis\n",
      "text4: Inaugural Address Corpus\n",
      "text5: Chat Corpus\n",
      "text6: Monty Python and the Holy Grail\n",
      "text7: Wall Street Journal\n",
      "text8: Personals Corpus\n",
      "text9: The Man Who Was Thursday by G . K . Chesterton 1908\n"
     ]
    }
   ],
   "source": [
    "from nltk.book import *"
   ]
  },
  {
   "cell_type": "code",
   "execution_count": 13,
   "metadata": {},
   "outputs": [
    {
     "name": "stdout",
     "output_type": "stream",
     "text": [
      "said Syme; asked Syme; Saffron Park; Comrade Gregory; Leicester\n",
      "Square; Colonel Ducroix; red hair; old gentleman; could see; Inspector\n",
      "Ratcliffe; Anarchist Council; blue card; Scotland Yard; dark room;\n",
      "blue eyes; common sense; straw hat; hundred yards; said Gregory; run\n",
      "away\n"
     ]
    }
   ],
   "source": [
    "text9.collocations()"
   ]
  },
  {
   "cell_type": "code",
   "execution_count": null,
   "metadata": {
    "collapsed": true
   },
   "outputs": [],
   "source": []
  }
 ],
 "metadata": {
  "kernelspec": {
   "display_name": "Python 3",
   "language": "python",
   "name": "python3"
  },
  "language_info": {
   "codemirror_mode": {
    "name": "ipython",
    "version": 3
   },
   "file_extension": ".py",
   "mimetype": "text/x-python",
   "name": "python",
   "nbconvert_exporter": "python",
   "pygments_lexer": "ipython3",
   "version": "3.6.1"
  }
 },
 "nbformat": 4,
 "nbformat_minor": 2
}
