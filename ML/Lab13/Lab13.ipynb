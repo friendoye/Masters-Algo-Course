{
 "cells": [
  {
   "cell_type": "markdown",
   "metadata": {},
   "source": [
    "### Домашнее задание №13 по курсу \"Машинное обучение\"\n",
    "Новик Никита"
   ]
  },
  {
   "cell_type": "markdown",
   "metadata": {},
   "source": [
    "### Задание 1\n",
    "\n",
    "Необходимо доказать, что $M_{SOA}(H) = Ldim(H)$.\n",
    "\n",
    "Неравенство $Ldim(H) \\le M_{SOA}(H)$ следует из Mistake-bound Ldim.\n",
    "\n",
    "Покажем, что $M_{SOA}(H) \\le Ldim(H)$. Для этого достаточно показать, что если на раунде $t$ алгоритм $SOA$ ошибся, то $Ldim(V_{t+1}) \\le Ldim(V_t) - 1$. Докажем последнее неравенство от противного:\n",
    "\n",
    "Пусть $Ldim(V_{t+1}) = Ldim(V_t)$. Тогда из определения $p_t$ в алгоритме $SOA$ следует, что $Ldim(V_t^r) = Ldim(V_t)$ для $r \\in \\{0,1\\}$. Из этого следует, что для $V_t$ мы можем построить разукрашиваемое дерево высоты $Ldim(V_t) + 1$. Получаем противоречие.\n",
    "\n",
    "Т.к. $Ldim(H) \\le M_{SOA}(H)$ и $M_{SOA}(H) \\le Ldim(H)$, получаем $M_{SOA}(H) = Ldim(H)$."
   ]
  },
  {
   "cell_type": "markdown",
   "metadata": {
    "collapsed": true
   },
   "source": [
    "### Задание 2\n",
    "\n",
    "Для доказательства того, что разница между $Ldim(H)$ и $VCdim(H)$ может быть сколь угодно большой, рассмотрим $X = [0, 1]$ и $H = \\{x \\rightarrow 1_{x<\\alpha} : \\alpha \\in [0, 1]\\}$. \n",
    "\n",
    "$VCdim(H) = 1$, т.к. для $С = \\{0.5\\}$ класс разукрашивающих гипотез равен $H_C = \\{h_{0.25}, h_{0.75}\\}$, а для любой $C = \\{a, b\\}, a < b$ мы не сможем подобрать гипотезу, которая разукрашивает случай $h(a) = 1, h(b) = 0$.\n",
    "\n",
    "Т.к. $Ldim(H) = \\infty$, то разница между $Ldim(H)$ и $VCdim(H)$ может быть сколь угодно большой."
   ]
  },
  {
   "cell_type": "markdown",
   "metadata": {},
   "source": [
    "### Задание 3\n",
    "\n",
    "Пусть $X = \\{0, 1\\}^d$ и $H = \\{h_1, h_2, ..., h_d\\}$, где $h_i = 1_{[x_i = 1]}$. На последовательности $(1, 0, ..., 0), (0, 1, ..., 0), ..., (0, 0, ..., 1)$ алгоритм совершит в худшем случае $|H| - 1$ ошибку."
   ]
  },
  {
   "cell_type": "markdown",
   "metadata": {},
   "source": [
    "### Задание 4\n",
    "\n",
    "Пусть $X = \\{1, 2, ..., 2^d\\}$ и $H = \\{h_1, h_2, ..., h_{2^d}\\}$, где $$h_i = 0,\\ if \\ x < i$$ $$h_i = 1,\\ if\\ x \\ge i$$ Пусть $h^* = h_1$, а последовательность $2^{d-1}, 2^{d-2}, ..., 2, 1$. Тогда алгоритм совершит $log_2(|H|)$ ошибок."
   ]
  },
  {
   "cell_type": "markdown",
   "metadata": {},
   "source": [
    "### Задание 5\n",
    "\n",
    "В таком случае наша функция $f_t(w)$ не выпукла и в случае ошибки алгоритма мы не будем менять наш $w$, т.к. $df_t^{(-)}(w^{(t)})=0$. В таком случае, мы не сможем дать никакой вменяемой оценки на $Ldim$ (при $d \\ge 2$ получаем $Ldim(H) = \\infty$), а значит - и на $M$."
   ]
  },
  {
   "cell_type": "code",
   "execution_count": null,
   "metadata": {
    "collapsed": true
   },
   "outputs": [],
   "source": []
  }
 ],
 "metadata": {
  "kernelspec": {
   "display_name": "Python 3",
   "language": "python",
   "name": "python3"
  },
  "language_info": {
   "codemirror_mode": {
    "name": "ipython",
    "version": 3
   },
   "file_extension": ".py",
   "mimetype": "text/x-python",
   "name": "python",
   "nbconvert_exporter": "python",
   "pygments_lexer": "ipython3",
   "version": "3.6.1"
  }
 },
 "nbformat": 4,
 "nbformat_minor": 2
}
