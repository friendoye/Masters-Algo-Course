{
 "cells": [
  {
   "cell_type": "markdown",
   "metadata": {},
   "source": [
    "### Домашнее задание №1 по курсу \"Машинное обучение\"\n",
    "\n",
    "Головач Андрей"
   ]
  },
  {
   "cell_type": "markdown",
   "metadata": {},
   "source": [
    "### Задание 1.\n",
    "Пусть $f:(0, +\\infty)\\rightarrow R$ - обратимая функция, а $X$ - случайная величина. Требуется доказать, что если для любого $t>0 \\Rightarrow P[X>t]\\le f(t),$ то для любого $\\delta >0 \\Rightarrow P\\left[X\\le f^{-1}(\\delta)\\right]\\ge 1-\\delta$\n",
    "\n",
    "**Доказательство.** $$P\\left[X\\le f^{-1}(\\delta)\\right]\\ge 1-\\delta \\Leftrightarrow 1-P\\left[X\\le f^{-1}(\\delta)\\right]\\le\\delta \\Leftrightarrow P\\left[X>f^{-1}(\\delta)\\right]\\le\\delta;$$\n",
    "\n",
    "Из $f:(0, +\\infty)\\rightarrow R$ следует, что $f^{-1}:R\\rightarrow (0, +\\infty)$, т. е. $f^{-1}(\\delta)>0$, а значит, для $f^{-1}(\\delta)$: $\\forall t>0 \\Rightarrow P[X>t]\\le f(t)$. \n",
    "\n",
    "Пусть $t=f^{-1}(\\delta)$: $$P\\left[X>f^{-1}(\\delta)\\right]\\le f(f^{-1}(\\delta))\\Leftrightarrow P\\left[X>f^{-1}(\\delta)\\right]\\le\\delta$$"
   ]
  },
  {
   "cell_type": "markdown",
   "metadata": {},
   "source": [
    "### Задание 2.\n",
    "\n",
    "Пусть $X=R$. Требуется доказать, что в классе полиномиальных классификаторов $$h_p(x) = \\begin{cases} 1, & \\mbox{если } a_0 + a_1 x^1 +...+ a_n x^n\\ge 0 \\\\ 0, & \\mbox{иначе} \\end{cases}; $$ найдется классификатор, совпадающий с $$h_S(x) = \\begin{cases} y_i, & \\mbox{если } \\exists i \\in [m]: x_i=x \\\\ 0, & \\mbox{иначе} \\end{cases};$$\n",
    "\n",
    "**Доказательство.** Пусть $\\left.S_+\\right\\vert_x=\\{\\left.x_i\\right\\vert\\exists i \\in [m]: y_i = 1\\}$ - множество всех $x$ из выборки $S$, для которых $y = 1$. Тогда $$h_S(x) = \\begin{cases} 1, & \\mbox{если } x \\in \\left.S_+\\right\\vert_x \\\\ 0, & \\mbox{иначе} \\end{cases};.$$\n",
    "Рассмотрим многочлен $p(x)=-\\prod\\limits_{x_k\\in \\left.S_+\\right\\vert_x} (x-x_k)^2$. Для $x \\in \\left.S_+\\right\\vert_x$ многочлен $p(x)$ обращается в 0, а для любого другого значения $p(x)<0$. Пороговый полиномиальный классификатор, порожденный этим многочленом, совпадает с $h_S(x)$.\n",
    "\n",
    "**Какой вывод можно сделать о ERM-парадигме в классе пороговых полиномиальных классификаторов?**\n",
    "\n",
    "Т. к. гипотеза $h_S$ является ERM-гипотезой из класса пороговых полиномиальных классификаторов, и при этом true risk для нее равен единице, то применение ERM-парадигмы для класса $h_p(x)$ может приводить к переобучению."
   ]
  },
  {
   "cell_type": "markdown",
   "metadata": {},
   "source": [
    "### Задание 3.\n",
    "**3.1**\n",
    "\n",
    "Рассмотрим классификатор $$h_{a_1, b_1, a_2, b_2}\\left((x_1, x_2)\\right) = \\begin{cases} 1, & \\mbox{если } a_1\\le x_1\\le b_1 \\mbox{и } a_2\\le x_2\\le b_2 \\\\ 0, & \\mbox{иначе} \\end{cases};$$ Будем считать, что выполнено предположение о реализуемости.\n",
    "\n",
    "Пусть алгоритм $A$ выбирает наименьший прямоугольник, содержащий все точки положительного класса. Необходимо доказать, что $A$ является реализацией ERM-алгоритма\n",
    "\n",
    "**Доказательство.**\n",
    "    Из предположения о реализуемости следует, что существует такой прямоугольник $H^*$, такой, что внутри него находятся все точки положительного класса и не содержится точек отрицательного класса. Тогда прямоугольник, полученный алгоритмом $A$ будет лежать внутри $H^*$, т.е. эмпирический риск гипотезы равен 0."
   ]
  },
  {
   "cell_type": "code",
   "execution_count": 29,
   "metadata": {},
   "outputs": [
    {
     "data": {
      "image/png": "[encoded data removed]",
      "text/plain": [
       "<matplotlib.figure.Figure at 0x823d908>"
      ]
     },
     "metadata": {},
     "output_type": "display_data"
    },
    {
     "name": "stdout",
     "output_type": "stream",
     "text": [
      "Средний размер выборки, при котором true risk равен 0.1: 69.6984126984127\n",
      "Средний размер выборки, при котором true risk равен 0.01: 532.6594360086768\n",
      "Средний размер выборки, при котором true risk равен 0.001: 846.0909090909091\n"
     ]
    }
   ],
   "source": [
    "# coding=utf-8\n",
    "import random\n",
    "from matplotlib import pyplot\n",
    "from math import sqrt\n",
    "\n",
    "\"\"\"3.2\"\"\"\n",
    "\n",
    "def generate_points(rect_side, points_number):\n",
    "    \"\"\"Генерирует points_number точек, лежащих внутри квадрата со стороной rect_side\"\"\"\n",
    "\n",
    "    points = []\n",
    "    for i in range(points_number):\n",
    "        points.append((random.uniform(0, rect_side), random.uniform(0, rect_side)))\n",
    "    return points\n",
    "\n",
    "\n",
    "def compute_true_risk(outer_rect_side, inner_rect_side, points):\n",
    "    \"\"\"Расчитывает true risk\"\"\"\n",
    "\n",
    "    inner_points = [point for point in points if point[0] <= inner_rect and point[1] <= inner_rect]\n",
    "\n",
    "    bounding_rect_size = 0\n",
    "\n",
    "    if len(inner_points) != 0:\n",
    "        x_min = min(map(lambda p: p[0], inner_points))\n",
    "        x_max = max(map(lambda p: p[0], inner_points))\n",
    "        y_min = min(map(lambda p: p[1], inner_points))\n",
    "        y_max = max(map(lambda p: p[1], inner_points))\n",
    "\n",
    "        bounding_rect_size = (x_max - x_min) * (y_max - y_min)\n",
    "\n",
    "    inner_rect_size = inner_rect_side ** 2\n",
    "    outer_rect_size = outer_rect_side ** 2\n",
    "\n",
    "    return (inner_rect_size - bounding_rect_size) / outer_rect_size\n",
    "\n",
    "\n",
    "def get_m_for_given_true_risk(true_risks_dict, true_risk, decimals):\n",
    "    m_list=[m for m in true_risks_dict.keys() if round(true_risks_dict[m], decimals) == true_risk]\n",
    "    m_average = sum(m_list) / len(m_list)\n",
    "        \n",
    "    return \"Средний размер выборки, при котором true risk равен {}: {}\".format(true_risk, m_average)\n",
    "\n",
    "\n",
    "\"\"\"3.3, 3.4\"\"\"\n",
    "\n",
    "outer_rect = 1\n",
    "inner_rect = 1 / sqrt(2)\n",
    "true_risks = {}\n",
    "\n",
    "for m in range(1, 1000):\n",
    "    generated_points = generate_points(outer_rect, m)\n",
    "    true_risks[m] = compute_true_risk(outer_rect, inner_rect, generated_points)\n",
    "\n",
    "pyplot.plot(list(true_risks.keys()), list(true_risks.values()))\n",
    "pyplot.xlabel(\"m\")\n",
    "pyplot.ylabel(\"true risk\")\n",
    "pyplot.show()\n",
    "\n",
    "print(get_m_for_given_true_risk(true_risks, 0.1, 1))\n",
    "print(get_m_for_given_true_risk (true_risks, 0.01, 2))\n",
    "print(get_m_for_given_true_risk (true_risks, 0.001, 3))"
   ]
  },
  {
   "cell_type": "markdown",
   "metadata": {},
   "source": [
    "**3.5**\n",
    "\n",
    "Как ответ на пункт 3.4 зависит от площади $X$ при неизменной площади $Q$? От относительной площади $Q$ и $X$? От размерности пространства $X$? Должен ли зависеть результат от $D$?\n",
    "\n",
    "**Ответ.** При неизменной площади $Q$ true risk обратно пропорционален площади $X$ (из формулы вычисления true risk).\n",
    "\n",
    "В случае неизменной относительной площади $Q$ и $X$ увеличение площадей $Q$ и $X$ в $n$ раз не изменит результатов из предыдущего пункта.\n",
    "\n",
    "Изменим размерность пространства $X$. Пусть исходная размерность $n-1$. $Q$ и $X$ - n-мерные прямоугольники, тога формула для вычисления true risk приобретает вид: $$L_D(h, n)=\\frac{q^n - h_1*...*h_n}{x^n}.$$ Тогда $$L_D(h, n)-L_D(h, n-1) = \\frac{q^n - h_1*...*h_{n-1}*h_n}{x^n} - \\frac{q^{n-1} - h_1*...*h_{n-1}}{x^{n-1}} = \\left(\\frac{q}{x}\\right)^{n-1}\\left(\\frac{q}{x} - 1\\right) + \\frac{h_1*...*h_{n-1}}{x^{n-1}}\\left(\\frac{h_n}{x}-1\\right) \\le \\left[\\frac{h_n}{x}\\le\\frac{q}{x}\\right] \\le \\left(\\frac{q}{x} - 1\\right)\\left(\\left(\\frac{q}{x}\\right)^{n-1}+\\frac{h_1*...*h_{n-1}}{x^{n-1}}\\right) \\le 0.$$\n",
    "Таким образом, увеличение размерности пространства $X$ приведет к уменьшению true risk.\n",
    "\n",
    "Распределение $D$ влияет на выборку, так как $D$ влияет на качество выборки $S$, от чего зависит вероятность нерепрезентативной выборки $\\delta$."
   ]
  },
  {
   "cell_type": "code",
   "execution_count": null,
   "metadata": {
    "collapsed": true
   },
   "outputs": [],
   "source": []
  }
 ],
 "metadata": {
  "kernelspec": {
   "display_name": "Python 3",
   "language": "python",
   "name": "python3"
  },
  "language_info": {
   "codemirror_mode": {
    "name": "ipython",
    "version": 3
   },
   "file_extension": ".py",
   "mimetype": "text/x-python",
   "name": "python",
   "nbconvert_exporter": "python",
   "pygments_lexer": "ipython3",
   "version": "3.6.1"
  }
 },
 "nbformat": 4,
 "nbformat_minor": 2
}
