{
 "cells": [
  {
   "cell_type": "code",
   "execution_count": 2,
   "metadata": {},
   "outputs": [],
   "source": [
    "from __future__ import print_function\n",
    "\n",
    "import sys\n",
    "\n",
    "import matplotlib\n",
    "matplotlib.use('Agg')\n",
    "%matplotlib inline\n",
    "import matplotlib.pyplot as plt\n",
    "\n",
    "import numpy as np\n",
    "import sklearn\n",
    "\n",
    "\n",
    "import random"
   ]
  },
  {
   "cell_type": "code",
   "execution_count": 3,
   "metadata": {},
   "outputs": [
    {
     "name": "stdout",
     "output_type": "stream",
     "text": [
      "[[0 0 0 ..., 0 0 0]\n",
      " [0 0 0 ..., 0 0 0]\n",
      " [0 0 0 ..., 0 0 0]\n",
      " ..., \n",
      " [0 0 0 ..., 0 0 0]\n",
      " [0 0 0 ..., 0 0 0]\n",
      " [0 0 0 ..., 0 0 0]]\n"
     ]
    }
   ],
   "source": [
    "import sklearn.datasets\n",
    "\n",
    "mnist = sklearn.datasets.mldata.fetch_mldata('MNIST original')\n",
    "X, Y = mnist['data'], np.array(mnist['target'], dtype='int')\n",
    "\n",
    "ntrain_dev = 60000\n",
    "X_train_dev, Y_train_dev = X[:ntrain_dev], Y[:ntrain_dev]\n",
    "X_test, Y_test = X[ntrain_dev:], Y[ntrain_dev:]\n",
    "\n",
    "permutation = np.random.permutation(ntrain_dev)\n",
    "ntrain = ntrain_dev * 90 // 100\n",
    "\n",
    "X_train, Y_train = X_train_dev[permutation][:ntrain], Y_train_dev[permutation][:ntrain]\n",
    "X_dev, Y_dev = X_train_dev[permutation][ntrain:], Y_train_dev[permutation][ntrain:]"
   ]
  },
  {
   "cell_type": "markdown",
   "metadata": {},
   "source": [
    "# Prepare data"
   ]
  },
  {
   "cell_type": "code",
   "execution_count": 96,
   "metadata": {
    "collapsed": true
   },
   "outputs": [],
   "source": [
    "def filter_by_digits(x, y, digits, limit=None):\n",
    "    indices = [i for i in range(len(x)) if y[i] in digits]\n",
    "    limit = limit or len(indices)\n",
    "    return x[indices][:limit], y[indices][:limit]"
   ]
  },
  {
   "cell_type": "code",
   "execution_count": 97,
   "metadata": {
    "collapsed": true
   },
   "outputs": [],
   "source": [
    "# Normalize to [-1; -1]\n",
    "def normalize(x, y):\n",
    "    x = (x * 2 / 255.0) - 1.0\n",
    "    return x, y\n",
    "    \n",
    "x_train_dev, y_train_dev = normalize(x_train_dev, y_train_dev)\n",
    "x_train, y_train = normalize(x_train, y_train)\n",
    "x_dev, y_dev = normalize(x_dev, y_dev)\n",
    "x_test, y_test = normalize(x_test, y_test)"
   ]
  },
  {
   "cell_type": "code",
   "execution_count": 101,
   "metadata": {
    "collapsed": true
   },
   "outputs": [],
   "source": [
    "def prepare_toy_sets():\n",
    "    x_train_dev, y_train_dev = filter_by_digits(X_train_dev, Y_train_dev, cool_digits, 3000)\n",
    "    x_train, y_train = filter_by_digits(X_train, Y_train, cool_digits, 3000)\n",
    "    x_dev, y_dev = filter_by_digits(X_dev, Y_dev, cool_digits, 300)\n",
    "    x_test, y_test = filter_by_digits(X_test, Y_test, cool_digits, 300)\n",
    "    \n",
    "    x_train_dev, y_train_dev = normalize(x_train_dev, y_train_dev)\n",
    "    x_train, y_train = normalize(x_train, y_train)\n",
    "    x_dev, y_dev = normalize(x_dev, y_dev)\n",
    "    x_test, y_test = normalize(x_test, y_test)\n",
    "    \n",
    "def prepare_full_sets():\n",
    "    x_train_dev, y_train_dev = X_train_dev, Y_train_dev\n",
    "    x_train, y_train = X_train, Y_train\n",
    "    x_dev, y_dev = X_dev, Y_dev\n",
    "    x_test, y_test = X_test, Y_test\n",
    "    \n",
    "    x_train_dev, y_train_dev = normalize(x_train_dev, y_train_dev)\n",
    "    x_train, y_train = normalize(x_train, y_train)\n",
    "    x_dev, y_dev = normalize(x_dev, y_dev)\n",
    "    x_test, y_test = normalize(x_test, y_test)"
   ]
  },
  {
   "cell_type": "markdown",
   "metadata": {},
   "source": [
    "# Визуализация данных"
   ]
  },
  {
   "cell_type": "code",
   "execution_count": 20,
   "metadata": {
    "collapsed": true
   },
   "outputs": [],
   "source": [
    "def visualize(x, title=None):\n",
    "    x = np.array(x, dtype='uint8').reshape((28,28))\n",
    "    if title:\n",
    "        plt.title(title)\n",
    "    plt.imshow(x, cmap='gray')\n",
    "    plt.show()"
   ]
  },
  {
   "cell_type": "code",
   "execution_count": 93,
   "metadata": {},
   "outputs": [
    {
     "name": "stdout",
     "output_type": "stream",
     "text": [
      "3000\n"
     ]
    }
   ],
   "source": [
    "nvisualize = 3\n",
    "for i in range(nvisualize):\n",
    "    num = random.randint(0, len(x_train) - 1)\n",
    "    print(x_train[num])\n",
    "    #visualize(x_train[num], title='This is {}'.format(y_train[num]))"
   ]
  },
  {
   "cell_type": "markdown",
   "metadata": {},
   "source": [
    "# SVM"
   ]
  },
  {
   "cell_type": "code",
   "execution_count": 94,
   "metadata": {
    "scrolled": true
   },
   "outputs": [
    {
     "name": "stdout",
     "output_type": "stream",
     "text": [
      "0.769 (+/-0.035) for {'C': 0.25, 'gamma': 0.001, 'kernel': 'rbf'}\n",
      "0.891 (+/-0.022) for {'C': 0.25, 'gamma': 0.005, 'kernel': 'rbf'}\n",
      "0.906 (+/-0.028) for {'C': 0.25, 'gamma': 0.01, 'kernel': 'rbf'}\n",
      "0.851 (+/-0.036) for {'C': 0.5, 'gamma': 0.001, 'kernel': 'rbf'}\n",
      "0.906 (+/-0.031) for {'C': 0.5, 'gamma': 0.005, 'kernel': 'rbf'}\n",
      "0.924 (+/-0.028) for {'C': 0.5, 'gamma': 0.01, 'kernel': 'rbf'}\n",
      "0.884 (+/-0.026) for {'C': 1, 'gamma': 0.001, 'kernel': 'rbf'}\n",
      "0.922 (+/-0.030) for {'C': 1, 'gamma': 0.005, 'kernel': 'rbf'}\n",
      "0.936 (+/-0.027) for {'C': 1, 'gamma': 0.01, 'kernel': 'rbf'}\n",
      "0.900 (+/-0.026) for {'C': 2, 'gamma': 0.001, 'kernel': 'rbf'}\n",
      "0.929 (+/-0.023) for {'C': 2, 'gamma': 0.005, 'kernel': 'rbf'}\n",
      "0.939 (+/-0.018) for {'C': 2, 'gamma': 0.01, 'kernel': 'rbf'}\n",
      "0.914 (+/-0.030) for {'C': 4, 'gamma': 0.001, 'kernel': 'rbf'}\n",
      "0.933 (+/-0.028) for {'C': 4, 'gamma': 0.005, 'kernel': 'rbf'}\n",
      "0.942 (+/-0.026) for {'C': 4, 'gamma': 0.01, 'kernel': 'rbf'}\n",
      "0.922 (+/-0.027) for {'C': 8, 'gamma': 0.001, 'kernel': 'rbf'}\n",
      "0.934 (+/-0.026) for {'C': 8, 'gamma': 0.005, 'kernel': 'rbf'}\n",
      "0.939 (+/-0.025) for {'C': 8, 'gamma': 0.01, 'kernel': 'rbf'}\n"
     ]
    }
   ],
   "source": [
    "import sklearn.svm\n",
    "import sklearn.model_selection\n",
    "\n",
    "prepare_toy_sets()\n",
    "\n",
    "tuned_parameters = [\n",
    "    {\n",
    "        'kernel': ['rbf'], \n",
    "        'gamma': [0.001, 0.005, 0.01],\n",
    "        'C': [0.25, 0.5, 1, 2, 4, 8]\n",
    "    },\n",
    "]\n",
    "\n",
    "grid_search = sklearn.model_selection.GridSearchCV(\n",
    "    sklearn.svm.SVC(),\n",
    "    tuned_parameters,\n",
    "    cv=10,\n",
    "    n_jobs=4\n",
    ")\n",
    "grid_search.fit(x_train, y_train)\n",
    "\n",
    "means = grid_search.cv_results_['mean_test_score']\n",
    "stds = grid_search.cv_results_['std_test_score']\n",
    "for mean, std, params in zip(means, stds, grid_search.cv_results_['params']):\n",
    "    print(\"%0.3f (+/-%0.03f) for %r\" % (mean, std * 2, params))"
   ]
  },
  {
   "cell_type": "code",
   "execution_count": null,
   "metadata": {
    "collapsed": true
   },
   "outputs": [],
   "source": []
  },
  {
   "cell_type": "code",
   "execution_count": 98,
   "metadata": {},
   "outputs": [
    {
     "name": "stdout",
     "output_type": "stream",
     "text": [
      "Accuracy: 0.9449\n",
      "out: 0.9449\n"
     ]
    }
   ],
   "source": [
    "from sklearn.svm import SVC\n",
    "from sklearn import metrics\n",
    "\n",
    "prepare_full_sets()\n",
    "\n",
    "model = SVC(kernel=\"rbf\", C=4, gamma=.001)\n",
    "model.fit(x_train_dev, y_train_dev)\n",
    "\n",
    "predicted = model.predict(x_test)\n",
    "print(\"Accuracy: %0.4f\" % metrics.accuracy_score(y_test, predicted))\n",
    "\n",
    "out = model.score(x_test, y_test)\n",
    "print(\"out: %s\" % out)"
   ]
  },
  {
   "cell_type": "code",
   "execution_count": 104,
   "metadata": {},
   "outputs": [
    {
     "name": "stdout",
     "output_type": "stream",
     "text": [
      "0.929 (+/-0.023) for {'C': 2.0, 'gamma': 0.005, 'kernel': 'rbf'}\n",
      "0.880 (+/-0.036) for {'C': 2.0, 'gamma': 0.075, 'kernel': 'rbf'}\n",
      "0.939 (+/-0.018) for {'C': 2.0, 'gamma': 0.01, 'kernel': 'rbf'}\n",
      "0.931 (+/-0.023) for {'C': 2.5, 'gamma': 0.005, 'kernel': 'rbf'}\n",
      "0.880 (+/-0.036) for {'C': 2.5, 'gamma': 0.075, 'kernel': 'rbf'}\n",
      "0.940 (+/-0.022) for {'C': 2.5, 'gamma': 0.01, 'kernel': 'rbf'}\n",
      "0.934 (+/-0.024) for {'C': 3.0, 'gamma': 0.005, 'kernel': 'rbf'}\n",
      "0.880 (+/-0.036) for {'C': 3.0, 'gamma': 0.075, 'kernel': 'rbf'}\n",
      "0.941 (+/-0.023) for {'C': 3.0, 'gamma': 0.01, 'kernel': 'rbf'}\n",
      "0.933 (+/-0.025) for {'C': 3.5, 'gamma': 0.005, 'kernel': 'rbf'}\n",
      "0.880 (+/-0.036) for {'C': 3.5, 'gamma': 0.075, 'kernel': 'rbf'}\n",
      "0.941 (+/-0.024) for {'C': 3.5, 'gamma': 0.01, 'kernel': 'rbf'}\n",
      "0.933 (+/-0.028) for {'C': 4.0, 'gamma': 0.005, 'kernel': 'rbf'}\n",
      "0.880 (+/-0.036) for {'C': 4.0, 'gamma': 0.075, 'kernel': 'rbf'}\n",
      "0.942 (+/-0.026) for {'C': 4.0, 'gamma': 0.01, 'kernel': 'rbf'}\n",
      "0.934 (+/-0.026) for {'C': 4.5, 'gamma': 0.005, 'kernel': 'rbf'}\n",
      "0.880 (+/-0.036) for {'C': 4.5, 'gamma': 0.075, 'kernel': 'rbf'}\n",
      "0.941 (+/-0.026) for {'C': 4.5, 'gamma': 0.01, 'kernel': 'rbf'}\n",
      "0.934 (+/-0.024) for {'C': 5.0, 'gamma': 0.005, 'kernel': 'rbf'}\n",
      "0.880 (+/-0.036) for {'C': 5.0, 'gamma': 0.075, 'kernel': 'rbf'}\n",
      "0.941 (+/-0.025) for {'C': 5.0, 'gamma': 0.01, 'kernel': 'rbf'}\n",
      "0.935 (+/-0.025) for {'C': 5.5, 'gamma': 0.005, 'kernel': 'rbf'}\n",
      "0.880 (+/-0.036) for {'C': 5.5, 'gamma': 0.075, 'kernel': 'rbf'}\n",
      "0.941 (+/-0.025) for {'C': 5.5, 'gamma': 0.01, 'kernel': 'rbf'}\n",
      "0.935 (+/-0.025) for {'C': 6.0, 'gamma': 0.005, 'kernel': 'rbf'}\n",
      "0.880 (+/-0.036) for {'C': 6.0, 'gamma': 0.075, 'kernel': 'rbf'}\n",
      "0.941 (+/-0.025) for {'C': 6.0, 'gamma': 0.01, 'kernel': 'rbf'}\n",
      "0.936 (+/-0.027) for {'C': 6.5, 'gamma': 0.005, 'kernel': 'rbf'}\n",
      "0.880 (+/-0.036) for {'C': 6.5, 'gamma': 0.075, 'kernel': 'rbf'}\n",
      "0.940 (+/-0.026) for {'C': 6.5, 'gamma': 0.01, 'kernel': 'rbf'}\n",
      "0.935 (+/-0.028) for {'C': 7.0, 'gamma': 0.005, 'kernel': 'rbf'}\n",
      "0.880 (+/-0.036) for {'C': 7.0, 'gamma': 0.075, 'kernel': 'rbf'}\n",
      "0.940 (+/-0.028) for {'C': 7.0, 'gamma': 0.01, 'kernel': 'rbf'}\n",
      "0.935 (+/-0.028) for {'C': 7.5, 'gamma': 0.005, 'kernel': 'rbf'}\n",
      "0.880 (+/-0.036) for {'C': 7.5, 'gamma': 0.075, 'kernel': 'rbf'}\n",
      "0.940 (+/-0.026) for {'C': 7.5, 'gamma': 0.01, 'kernel': 'rbf'}\n",
      "0.934 (+/-0.026) for {'C': 8.0, 'gamma': 0.005, 'kernel': 'rbf'}\n",
      "0.880 (+/-0.036) for {'C': 8.0, 'gamma': 0.075, 'kernel': 'rbf'}\n",
      "0.939 (+/-0.025) for {'C': 8.0, 'gamma': 0.01, 'kernel': 'rbf'}\n"
     ]
    }
   ],
   "source": [
    "import sklearn.svm\n",
    "import sklearn.model_selection\n",
    "\n",
    "prepare_toy_sets()\n",
    "\n",
    "tuned_parameters = [\n",
    "    {\n",
    "        'kernel': ['rbf'], \n",
    "        'gamma': [0.005, 0.075, 0.01],\n",
    "        'C': np.arange(2, 8.5, 0.5)\n",
    "    },\n",
    "]\n",
    "\n",
    "grid_search = sklearn.model_selection.GridSearchCV(\n",
    "    sklearn.svm.SVC(),\n",
    "    tuned_parameters,\n",
    "    cv=10,\n",
    "    n_jobs=4\n",
    ")\n",
    "grid_search.fit(x_train, y_train)\n",
    "\n",
    "means = grid_search.cv_results_['mean_test_score']\n",
    "stds = grid_search.cv_results_['std_test_score']\n",
    "for mean, std, params in zip(means, stds, grid_search.cv_results_['params']):\n",
    "    print(\"%0.3f (+/-%0.03f) for %r\" % (mean, std * 2, params))"
   ]
  },
  {
   "cell_type": "code",
   "execution_count": 111,
   "metadata": {},
   "outputs": [
    {
     "name": "stdout",
     "output_type": "stream",
     "text": [
      "Test: 0.975\n"
     ]
    }
   ],
   "source": [
    "from sklearn.svm import SVC\n",
    "from sklearn import metrics\n",
    "\n",
    "prepare_full_sets()\n",
    "\n",
    "model = SVC(kernel=\"rbf\", C=2.7, gamma=.0075)\n",
    "model.fit(x_train_dev, y_train_dev)\n",
    "\n",
    "predicted = model.predict(x_test)\n",
    "print(\"Test: %0.3f\" % metrics.accuracy_score(y_test, predicted))"
   ]
  },
  {
   "cell_type": "code",
   "execution_count": null,
   "metadata": {
    "collapsed": true
   },
   "outputs": [],
   "source": []
  }
 ],
 "metadata": {
  "kernelspec": {
   "display_name": "Python 3",
   "language": "python",
   "name": "python3"
  },
  "language_info": {
   "codemirror_mode": {
    "name": "ipython",
    "version": 3
   },
   "file_extension": ".py",
   "mimetype": "text/x-python",
   "name": "python",
   "nbconvert_exporter": "python",
   "pygments_lexer": "ipython3",
   "version": "3.6.1"
  }
 },
 "nbformat": 4,
 "nbformat_minor": 2
}
