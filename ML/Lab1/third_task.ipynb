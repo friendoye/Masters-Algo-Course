{
 "cells": [
  {
   "cell_type": "code",
   "execution_count": 6,
   "metadata": {
    "collapsed": true
   },
   "outputs": [],
   "source": [
    "class Point:\n",
    "    def __init__(self, x, y):\n",
    "        self.x = x\n",
    "        self.y = y\n",
    "\n",
    "class Rect:\n",
    "    def __init__(self, left, bottom, right, top):\n",
    "        self.left = left\n",
    "        self.bottom = bottom\n",
    "        self.right = right\n",
    "        self.top = top\n",
    "\n",
    "    def area(self):\n",
    "        return (self.right - self.left) * (self.top - self.bottom)\n",
    "\n",
    "    def coords(self):\n",
    "        return (self.left, self.bottom, self.right, self.top)\n",
    "\n",
    "    def contains(self, point):\n",
    "        return (self.left <= point.x <= self.right) and \\\n",
    "               (self.bottom <= point.y <= self.top)"
   ]
  },
  {
   "cell_type": "code",
   "execution_count": 17,
   "metadata": {
    "collapsed": true
   },
   "outputs": [],
   "source": [
    "import random\n",
    "\n",
    "def gen_points_uniform(rect, count):\n",
    "    points = []\n",
    "    x_min, y_min, x_max, y_max = rect.coords()\n",
    "    for _ in range(count):\n",
    "        x = random.uniform(x_min, x_max)\n",
    "        y = random.uniform(y_min, y_max)\n",
    "        points.append(Point(x, y))\n",
    "    return points\n",
    "\n",
    "def compute_min_rect(Q, points):\n",
    "    points = list(filter(lambda p: Q.contains(p), points))\n",
    "    if len(points) == 0:\n",
    "        return Rect(0, 0, 0, 0)\n",
    "    elif len(points) == 1:\n",
    "        return Rect(points[0].x, points[0].y,\n",
    "                    points[0].x, points[0].y)\n",
    "    else:\n",
    "        x_min = min(map(lambda p: p.x, points))\n",
    "        x_max = max(map(lambda p: p.x, points))\n",
    "        y_min = min(map(lambda p: p.y, points))\n",
    "        y_max = max(map(lambda p: p.y, points))\n",
    "        return Rect(x_min, y_min, x_max, y_max)\n",
    "\n",
    "def true_risk(count, X, Q):\n",
    "    points = gen_points_uniform(X, count)\n",
    "    return (Q.area() - compute_min_rect(Q, points).area()) / X.area()"
   ]
  },
  {
   "cell_type": "code",
   "execution_count": 55,
   "metadata": {},
   "outputs": [
    {
     "data": {
      "image/png": "[encoded data removed]",
      "text/plain": [
       "<matplotlib.figure.Figure at 0x10657c470>"
      ]
     },
     "metadata": {},
     "output_type": "display_data"
    }
   ],
   "source": [
    "from matplotlib import pyplot as plt\n",
    "\n",
    "x_range = range(1000)\n",
    "X = Rect(0, 0, 1, 1)\n",
    "Q = Rect(0, 0, 2.0 ** (-0.5), 2.0 ** (-0.5))\n",
    "plt.plot(x_range, [true_risk(count, X, Q) for count in x_range])\n",
    "plt.show()"
   ]
  },
  {
   "cell_type": "code",
   "execution_count": 56,
   "metadata": {},
   "outputs": [
    {
     "name": "stdout",
     "output_type": "stream",
     "text": [
      "10% hit: 37\n",
      "10% hit: 45\n",
      "1% hit: 319\n",
      "1% hit: 349\n",
      "1% hit: 356\n",
      "1% hit: 363\n",
      "1% hit: 365\n",
      "1% hit: 379\n",
      "1% hit: 385\n",
      "1% hit: 388\n",
      "1% hit: 394\n",
      "1% hit: 397\n",
      "1% hit: 400\n",
      "1% hit: 405\n",
      "1% hit: 407\n",
      "1% hit: 413\n",
      "1% hit: 415\n",
      "1% hit: 417\n",
      "1% hit: 421\n",
      "1% hit: 427\n",
      "1% hit: 429\n",
      "1% hit: 432\n",
      "1% hit: 437\n",
      "1% hit: 440\n",
      "1% hit: 447\n",
      "1% hit: 451\n",
      "1% hit: 465\n",
      "1% hit: 474\n",
      "0.1% hit: 3104\n"
     ]
    }
   ],
   "source": [
    "# Find m for given average true risk\n",
    "# 10% -> 42\n",
    "# 1% -> 430\n",
    "# 0.1% -> 3100\n",
    "calls_amount = 20\n",
    "count = 1\n",
    "percent = 0.5\n",
    "while percent >= 0.001:\n",
    "    percent_new = sum([true_risk(count, X, Q) for _ in range(calls_amount)]) / calls_amount\n",
    "    if percent_new <= 0.1 <= percent:\n",
    "        print(\"10% hit: \" + str(count))\n",
    "    if percent_new <= 0.01 <= percent:\n",
    "        print(\"1% hit: \" + str(count))\n",
    "    if percent_new <= 0.001 <= percent:\n",
    "        print(\"0.1% hit: \" + str(count))\n",
    "    percent = percent_new\n",
    "    count = count + 1"
   ]
  },
  {
   "cell_type": "code",
   "execution_count": null,
   "metadata": {
    "collapsed": true
   },
   "outputs": [],
   "source": []
  }
 ],
 "metadata": {
  "kernelspec": {
   "display_name": "Python 3",
   "language": "python",
   "name": "python3"
  },
  "language_info": {
   "codemirror_mode": {
    "name": "ipython",
    "version": 3
   },
   "file_extension": ".py",
   "mimetype": "text/x-python",
   "name": "python",
   "nbconvert_exporter": "python",
   "pygments_lexer": "ipython3",
   "version": "3.6.1"
  }
 },
 "nbformat": 4,
 "nbformat_minor": 1
}
