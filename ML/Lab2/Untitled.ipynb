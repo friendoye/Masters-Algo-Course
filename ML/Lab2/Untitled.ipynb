{
 "cells": [
  {
   "cell_type": "code",
   "execution_count": 1,
   "metadata": {
    "collapsed": true
   },
   "outputs": [],
   "source": [
    "class Point:\n",
    "    def __init__(self, x, y):\n",
    "        self.x = x\n",
    "        self.y = y\n",
    "\n",
    "class Rect:\n",
    "    def __init__(self, left, bottom, right, top):\n",
    "        self.left = left\n",
    "        self.bottom = bottom\n",
    "        self.right = right\n",
    "        self.top = top\n",
    "\n",
    "    def area(self):\n",
    "        return (self.right - self.left) * (self.top - self.bottom)\n",
    "\n",
    "    def coords(self):\n",
    "        return (self.left, self.bottom, self.right, self.top)\n",
    "\n",
    "    def contains(self, point):\n",
    "        return (self.left <= point.x <= self.right) and \\\n",
    "               (self.bottom <= point.y <= self.top)"
   ]
  },
  {
   "cell_type": "code",
   "execution_count": null,
   "metadata": {
    "collapsed": true
   },
   "outputs": [],
   "source": [
    "import random\n",
    "\n",
    "def gen_training_set(x_min, x_max, y_min, y_max, N, P):\n",
    "    perimeter = (x_max - x_min) * 2 + (y_max - y_min) * 2\n",
    "    start_point_coord = random.random() * perimeter\n",
    "    \n",
    "    # "
   ]
  }
 ],
 "metadata": {
  "kernelspec": {
   "display_name": "Python 3",
   "language": "python",
   "name": "python3"
  },
  "language_info": {
   "codemirror_mode": {
    "name": "ipython",
    "version": 3
   },
   "file_extension": ".py",
   "mimetype": "text/x-python",
   "name": "python",
   "nbconvert_exporter": "python",
   "pygments_lexer": "ipython3",
   "version": "3.6.1"
  }
 },
 "nbformat": 4,
 "nbformat_minor": 2
}
