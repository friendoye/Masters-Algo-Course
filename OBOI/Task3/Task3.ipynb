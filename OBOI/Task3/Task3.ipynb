{
 "cells": [
  {
   "cell_type": "code",
   "execution_count": 1,
   "metadata": {},
   "outputs": [
    {
     "name": "stdout",
     "output_type": "stream",
     "text": [
      "Requirement already satisfied: findspark in /Users/friendoye/anaconda/lib/python3.6/site-packages\r\n"
     ]
    }
   ],
   "source": [
    "! pip install findspark "
   ]
  },
  {
   "cell_type": "code",
   "execution_count": 2,
   "metadata": {
    "collapsed": true
   },
   "outputs": [],
   "source": [
    "import findspark\n",
    "findspark.init()\n",
    "\n",
    "from pyspark import SparkContext, SparkConf\n",
    "\n",
    "conf = SparkConf().setMaster(\"local\").setAppName(\"PangRank\")\n",
    "sc = SparkContext(conf = conf)"
   ]
  },
  {
   "cell_type": "code",
   "execution_count": 9,
   "metadata": {
    "collapsed": true
   },
   "outputs": [],
   "source": [
    "from operator import add, sub\n",
    "from pyspark.sql import Row\n",
    "\n",
    "def get_edges(edge):\n",
    "    source, dest, weight = list(map(int, edge.split('\\t')))\n",
    "    return Row(source=source, dest=dest, weight=weight)\n",
    "\n",
    "def get_vertexes(edges):\n",
    "    return edges.flatMap(lambda edge: (edge.source, edge.dest)).distinct()\n",
    "\n",
    "def norm_L1(ranks):\n",
    "    return ranks.map(lambda pair: pair[1]).reduce(add)\n",
    "    \n",
    "def normalize_weights(entry):\n",
    "    source, (edges, sum_weights) = entry\n",
    "    for edge in edges:\n",
    "        yield Row(source=edge.source, dest=edge.dest, weight=edge.weight / sum_weights)\n",
    "\n",
    "def markov_transform(entry):\n",
    "    source, (edges, rank) = entry\n",
    "    for edge in edges:\n",
    "        yield (edge.dest, rank * edge.weight)\n",
    "\n",
    "def compute_page_rank(input_file_name, c = 0.85, iterations = 50):\n",
    "    # Read edges\n",
    "    lines = sc.textFile(input_file_name)\n",
    "    edges = lines.map(get_edges)\n",
    "\n",
    "    # Re-weight edges\n",
    "    edges_by_source = edges.groupBy(lambda row: row.source)\n",
    "    sum_weights = edges_by_source.map(lambda x: (x[0], sum(row.weight for row in x[1])))\n",
    "    edges = edges_by_source.join(sum_weights).flatMap(normalize_weights)\n",
    "\n",
    "    # Prepare suitable data\n",
    "    vertexes = get_vertexes(edges)\n",
    "    vertex_count = edges.count()\n",
    "    edges = edges.groupBy(lambda row: row.source)\n",
    "    #print(list(map(lambda x: (x[0], list(x[1])), edges.collect())))\n",
    "    #print(vertexes.collect())\n",
    "    \n",
    "    # Poor man's PageRank\n",
    "    prev_ranks = vertexes.map(lambda vert: (vert, 1.0))\n",
    "    prev_norm = norm_L1(prev_ranks)\n",
    "    errors = []\n",
    "    for i in range(iterations):\n",
    "        partial_ranks = edges.join(prev_ranks).flatMap(markov_transform)\n",
    "        partial_ranks = partial_ranks.union(vertexes.map(lambda vert: (vert, 0)))\n",
    "        ranks = partial_ranks.reduceByKey(add)\n",
    "        ranks = ranks.mapValues(lambda rank: c * rank)\n",
    "        norm = norm_L1(ranks)\n",
    "        gamma = prev_norm - norm\n",
    "        ranks = ranks.map(lambda x: (x[0], x[1] + gamma / float(vertex_count)))\n",
    "\n",
    "        error = norm_L1(ranks.union(prev_ranks).reduceByKey(sub)) / vertex_count\n",
    "        errors.append(error)\n",
    "        \n",
    "        prev_ranks = ranks\n",
    "        prev_norm = norm\n",
    "    \n",
    "    # Sort vertexes by rank\n",
    "    prev_ranks = prev_ranks.collect()\n",
    "    prev_ranks.sort(key=lambda x: x[1])\n",
    "    \n",
    "    return (prev_ranks, errors)"
   ]
  },
  {
   "cell_type": "code",
   "execution_count": 10,
   "metadata": {},
   "outputs": [
    {
     "name": "stdout",
     "output_type": "stream",
     "text": [
      "[(501, 7.293911930259997), (70768, 7.465437571149475), (786, 8.371060323578256), (17234, 8.407059877056062), (807, 9.751131497572906), (558, 12.263502567511129), (142, 12.291738751738961), (79269, 13.504146465285066), (641, 13.676167342335226), (10976, 26.79581787410098)]\n"
     ]
    }
   ],
   "source": [
    "import numpy as np\n",
    "from matplotlib import pyplot as plt\n",
    "\n",
    "iterations = 10\n",
    "ranks, errors = compute_page_rank(\"graph1.tsv\", c=0.85, iterations = iterations)\n",
    "\n",
    "print(ranks[-10:])"
   ]
  },
  {
   "cell_type": "code",
   "execution_count": 11,
   "metadata": {},
   "outputs": [
    {
     "data": {
      "image/png": "[encoded data removed]",
      "text/plain": [
       "<matplotlib.figure.Figure at 0x11a252908>"
      ]
     },
     "metadata": {},
     "output_type": "display_data"
    }
   ],
   "source": [
    "plt.plot(range(iterations), errors)\n",
    "plt.show()"
   ]
  },
  {
   "cell_type": "code",
   "execution_count": 12,
   "metadata": {
    "collapsed": true
   },
   "outputs": [],
   "source": [
    "def save_page_ranks(ranks, output_file_name):\n",
    "    with open(output_file_name, \"w+\") as f:\n",
    "        for rank in ranks:\n",
    "            f.write(\"%s\\t%s\\n\" % rank)\n",
    "\n",
    "save_page_ranks(ranks, \"results.tsv\")"
   ]
  },
  {
   "cell_type": "code",
   "execution_count": null,
   "metadata": {
    "collapsed": true
   },
   "outputs": [],
   "source": []
  }
 ],
 "metadata": {
  "kernelspec": {
   "display_name": "Python 3",
   "language": "python",
   "name": "python3"
  },
  "language_info": {
   "codemirror_mode": {
    "name": "ipython",
    "version": 3
   },
   "file_extension": ".py",
   "mimetype": "text/x-python",
   "name": "python",
   "nbconvert_exporter": "python",
   "pygments_lexer": "ipython3",
   "version": "3.6.1"
  }
 },
 "nbformat": 4,
 "nbformat_minor": 2
}
