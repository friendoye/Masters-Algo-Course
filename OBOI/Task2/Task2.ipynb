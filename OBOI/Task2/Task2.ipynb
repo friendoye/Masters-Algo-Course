{
 "cells": [
  {
   "cell_type": "code",
   "execution_count": 2,
   "metadata": {},
   "outputs": [
    {
     "name": "stdout",
     "output_type": "stream",
     "text": [
      "Requirement already satisfied: findspark in /Users/friendoye/anaconda/lib/python3.6/site-packages\r\n"
     ]
    }
   ],
   "source": [
    "! pip install findspark "
   ]
  },
  {
   "cell_type": "code",
   "execution_count": 3,
   "metadata": {
    "collapsed": true
   },
   "outputs": [],
   "source": [
    "import findspark\n",
    "findspark.init()\n",
    "\n",
    "from pyspark import SparkContext, SparkConf\n",
    "\n",
    "conf = (SparkConf()\n",
    "         .setMaster(\"local\")\n",
    "         .setAppName(\"Task 2\"))\n",
    "sc = SparkContext(conf = conf)"
   ]
  },
  {
   "cell_type": "code",
   "execution_count": 4,
   "metadata": {
    "collapsed": true
   },
   "outputs": [],
   "source": [
    "def process_tsv_with_spark(input_file_name, output_file_name, debug=True):\n",
    "    lines = sc.textFile(input_file_name)\n",
    "    temp1 = lines.map(lambda x: x.split(\"\\t\"))\n",
    "    temp2 = temp1\n",
    "    temp3 = temp2.map(lambda triple: (int(triple[1]), int(triple[2])))\n",
    "    temp4 = temp3.reduceByKey(lambda x, y: x + y).sortByKey()\n",
    "    results = temp4.map(lambda x: \"%s\\t%s\" % x).collect()\n",
    "    if debug:\n",
    "        print(results[:100])\n",
    "    with open(output_file_name, \"w+\") as f:\n",
    "        f.write(\"\\n\".join(results))"
   ]
  },
  {
   "cell_type": "code",
   "execution_count": 5,
   "metadata": {},
   "outputs": [
    {
     "name": "stdout",
     "output_type": "stream",
     "text": [
      "['1\\t371', '2\\t637', '3\\t986', '4\\t815', '5\\t92', '6\\t9', '7\\t99', '8\\t2', '9\\t281', '10\\t129', '12\\t3', '13\\t4', '14\\t3', '15\\t1', '16\\t1', '17\\t1', '18\\t3', '19\\t1', '20\\t1', '21\\t6', '22\\t1', '23\\t1', '24\\t1', '25\\t1', '26\\t4', '27\\t1', '28\\t1', '29\\t202', '30\\t1555', '31\\t2', '32\\t3', '33\\t1', '34\\t2', '35\\t3', '36\\t3', '37\\t1', '38\\t3', '39\\t3', '40\\t3', '41\\t1', '42\\t1', '43\\t1', '44\\t1', '45\\t2', '46\\t1', '47\\t1', '48\\t1', '50\\t1', '51\\t1361', '53\\t4', '54\\t2', '55\\t1', '56\\t1', '57\\t1', '58\\t2', '59\\t1', '61\\t1', '62\\t1', '63\\t1', '64\\t1', '65\\t1', '66\\t1', '67\\t1', '68\\t368', '69\\t329', '70\\t73', '71\\t201', '72\\t151', '73\\t7', '74\\t19', '75\\t2', '76\\t229', '77\\t158', '78\\t139', '79\\t62', '80\\t366', '81\\t106', '82\\t15', '83\\t267', '84\\t73', '85\\t58', '86\\t1', '87\\t1', '88\\t81', '89\\t391', '90\\t23', '91\\t381', '92\\t217', '93\\t489', '94\\t61', '95\\t447', '96\\t148', '98\\t27', '99\\t21', '100\\t153', '101\\t72', '102\\t135', '103\\t196', '104\\t249', '105\\t127']\n"
     ]
    }
   ],
   "source": [
    "process_tsv_with_spark(\"graph1.tsv\", \"task2output1.tsv\")"
   ]
  },
  {
   "cell_type": "code",
   "execution_count": 6,
   "metadata": {},
   "outputs": [
    {
     "name": "stdout",
     "output_type": "stream",
     "text": [
      "['5\\t17', '12\\t12', '14\\t5', '15\\t17', '17\\t28', '21\\t11', '24\\t4', '25\\t4', '29\\t5', '30\\t351', '39\\t8', '43\\t17', '51\\t5', '52\\t6', '54\\t8', '56\\t7', '78\\t31', '82\\t3', '85\\t98', '97\\t67', '112\\t28', '115\\t147', '116\\t3', '127\\t1', '139\\t2575', '162\\t61', '181\\t3', '183\\t177', '189\\t275', '207\\t247', '210\\t3', '228\\t23', '235\\t27', '237\\t1', '240\\t1', '247\\t4', '248\\t3', '251\\t1', '254\\t3', '256\\t10', '263\\t44', '273\\t13', '274\\t2', '279\\t4', '280\\t4', '284\\t1', '292\\t1', '296\\t6', '299\\t8', '302\\t13', '308\\t432', '335\\t7', '344\\t91', '345\\t89', '347\\t3', '348\\t5', '351\\t2', '358\\t42', '359\\t1', '364\\t18', '367\\t7', '370\\t65', '374\\t5', '375\\t4', '385\\t157', '388\\t16', '403\\t92', '411\\t1', '432\\t34', '435\\t6', '445\\t3', '447\\t66', '456\\t63', '460\\t4', '468\\t41', '475\\t39', '481\\t89', '496\\t13', '497\\t15', '502\\t1', '504\\t17', '511\\t6', '512\\t4', '531\\t8', '548\\t2', '568\\t4', '580\\t2', '583\\t4', '584\\t1', '585\\t1', '593\\t3', '612\\t50', '615\\t2', '618\\t946', '623\\t4', '642\\t112', '644\\t17', '649\\t18', '651\\t121', '671\\t3']\n"
     ]
    }
   ],
   "source": [
    "process_tsv_with_spark(\"graph2.tsv\", \"task2output2.tsv\")"
   ]
  },
  {
   "cell_type": "code",
   "execution_count": null,
   "metadata": {
    "collapsed": true
   },
   "outputs": [],
   "source": []
  }
 ],
 "metadata": {
  "kernelspec": {
   "display_name": "Python 3",
   "language": "python",
   "name": "python3"
  },
  "language_info": {
   "codemirror_mode": {
    "name": "ipython",
    "version": 3
   },
   "file_extension": ".py",
   "mimetype": "text/x-python",
   "name": "python",
   "nbconvert_exporter": "python",
   "pygments_lexer": "ipython3",
   "version": "3.6.1"
  }
 },
 "nbformat": 4,
 "nbformat_minor": 2
}
